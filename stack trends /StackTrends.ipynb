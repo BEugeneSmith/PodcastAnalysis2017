{
 "cells": [
  {
   "cell_type": "code",
   "execution_count": 1,
   "metadata": {},
   "outputs": [
    {
     "name": "stdout",
     "output_type": "stream",
     "text": [
      "/Users/BEugeneSmith/Desktop/projects/PodcastAnalysis\n"
     ]
    }
   ],
   "source": [
    "cd .."
   ]
  },
  {
   "cell_type": "code",
   "execution_count": null,
   "metadata": {},
   "outputs": [],
   "source": []
  },
  {
   "cell_type": "code",
   "execution_count": 4,
   "metadata": {},
   "outputs": [
    {
     "name": "stderr",
     "output_type": "stream",
     "text": [
      "/Users/BEugeneSmith/Desktop/projects/PodcastAnalysis/Analysis/Helper.py:59: FutureWarning: Sorting because non-concatenation axis is not aligned. A future version\n",
      "of pandas will change to not sort by default.\n",
      "\n",
      "To accept the future behavior, pass 'sort=False'.\n",
      "\n",
      "To retain the current behavior and silence the warning, pass 'sort=True'.\n",
      "\n",
      "  return pd.concat(loaded_files).reset_index(drop=True),loaded_file_paths\n"
     ]
    }
   ],
   "source": [
    "# master dataset \n",
    "from Analysis.Helper import *\n",
    "gen = datetime.now()\n",
    "start = datetime(2017,7,24)\n",
    "end = datetime.now().date()\n",
    "\n",
    "aai = AudioAnalysisInput(start=start,end=end)\n",
    "\n",
    "filt_data = aai.data[(aai.data['datePlayed']>=start)&(~aai.data['batch_skip_ind'])]\n",
    "filt_data = filt_data[['weekPlayed','album','duration','datePlayed',\"dur_bin\",'frequency','category']]\n",
    "filt_data['datePlayed'] = filt_data['datePlayed'].dt.date\n",
    "filt_data['frequency_grp'] = filt_data['frequency'].apply(lambda x: \"d\" if x==\"d\" else \"nd\")\n",
    "filt_data['duration'] = filt_data['duration']/3600"
   ]
  },
  {
   "cell_type": "code",
   "execution_count": 5,
   "metadata": {},
   "outputs": [],
   "source": [
    "filt_data.to_clipboard(index=False)"
   ]
  },
  {
   "cell_type": "code",
   "execution_count": 6,
   "metadata": {},
   "outputs": [],
   "source": [
    "filt_data.pivot_table(index=['datePlayed'],columns=['frequency_grp'],values='duration',aggfunc='sum').to_clipboard()"
   ]
  },
  {
   "cell_type": "code",
   "execution_count": 22,
   "metadata": {},
   "outputs": [],
   "source": [
    "spring_2018 = filt_data[(filt_data['datePlayed']>=datetime(2017,12,1).date())&(filt_data['datePlayed']<datetime(2018,5,1).date())]"
   ]
  },
  {
   "cell_type": "code",
   "execution_count": 24,
   "metadata": {},
   "outputs": [],
   "source": [
    "spring_2018.pivot_table(index=['datePlayed'],columns=['frequency_grp','category'],values='duration',aggfunc='sum').to_clipboard()"
   ]
  },
  {
   "cell_type": "code",
   "execution_count": 6,
   "metadata": {},
   "outputs": [
    {
     "data": {
      "text/plain": [
       "datetime.date(2019, 8, 4)"
      ]
     },
     "execution_count": 6,
     "metadata": {},
     "output_type": "execute_result"
    }
   ],
   "source": [
    "filt_data['datePlayed'].max()"
   ]
  },
  {
   "cell_type": "code",
   "execution_count": null,
   "metadata": {},
   "outputs": [],
   "source": []
  }
 ],
 "metadata": {
  "kernelspec": {
   "display_name": "Python [conda env:anaconda3]",
   "language": "python",
   "name": "conda-env-anaconda3-py"
  },
  "language_info": {
   "codemirror_mode": {
    "name": "ipython",
    "version": 3
   },
   "file_extension": ".py",
   "mimetype": "text/x-python",
   "name": "python",
   "nbconvert_exporter": "python",
   "pygments_lexer": "ipython3",
   "version": "3.5.6"
  }
 },
 "nbformat": 4,
 "nbformat_minor": 2
}

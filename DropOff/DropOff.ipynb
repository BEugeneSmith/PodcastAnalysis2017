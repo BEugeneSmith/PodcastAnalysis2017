{
 "cells": [
  {
   "cell_type": "code",
   "execution_count": 1,
   "metadata": {},
   "outputs": [
    {
     "name": "stdout",
     "output_type": "stream",
     "text": [
      "/Users/BEugeneSmith/Desktop/projects/PodcastAnalysis\n"
     ]
    }
   ],
   "source": [
    "cd .."
   ]
  },
  {
   "cell_type": "code",
   "execution_count": 2,
   "metadata": {},
   "outputs": [
    {
     "name": "stderr",
     "output_type": "stream",
     "text": [
      "/Users/BEugeneSmith/Desktop/projects/PodcastAnalysis/Analysis/Helper.py:59: FutureWarning: Sorting because non-concatenation axis is not aligned. A future version\n",
      "of pandas will change to not sort by default.\n",
      "\n",
      "To accept the future behavior, pass 'sort=False'.\n",
      "\n",
      "To retain the current behavior and silence the warning, pass 'sort=True'.\n",
      "\n",
      "  return pd.concat(loaded_files).reset_index(drop=True),loaded_file_paths\n"
     ]
    }
   ],
   "source": [
    "# master dataset \n",
    "from Analysis.Helper import *\n",
    "gen = datetime.now()\n",
    "start = datetime(2017,7,24)\n",
    "end = datetime(2019,8,21)\n",
    "\n",
    "aai = AudioAnalysisInput(start=start,end=end)\n",
    "\n",
    "filt_data = aai.data[(aai.data['datePlayed']>=start)&(~aai.data['batch_skip_ind'])]\n",
    "filt_data = filt_data[['weekPlayed','album','duration',\"dur_bin\",'frequency','category']]\n",
    "# filt_data['datePlayed'] = filt_data['datePlayed'].dt.date\n",
    "filt_data['frequency_grp'] = filt_data['frequency'].apply(lambda x: \"d\" if x==\"d\" else \"nd\")\n",
    "filt_data['duration'] = filt_data['duration']/3600"
   ]
  },
  {
   "cell_type": "code",
   "execution_count": 3,
   "metadata": {},
   "outputs": [
    {
     "data": {
      "text/html": [
       "<div>\n",
       "<style scoped>\n",
       "    .dataframe tbody tr th:only-of-type {\n",
       "        vertical-align: middle;\n",
       "    }\n",
       "\n",
       "    .dataframe tbody tr th {\n",
       "        vertical-align: top;\n",
       "    }\n",
       "\n",
       "    .dataframe thead th {\n",
       "        text-align: right;\n",
       "    }\n",
       "</style>\n",
       "<table border=\"1\" class=\"dataframe\">\n",
       "  <thead>\n",
       "    <tr style=\"text-align: right;\">\n",
       "      <th></th>\n",
       "      <th>weekPlayed</th>\n",
       "      <th>album</th>\n",
       "      <th>duration</th>\n",
       "      <th>dur_bin</th>\n",
       "      <th>frequency</th>\n",
       "      <th>category</th>\n",
       "      <th>frequency_grp</th>\n",
       "    </tr>\n",
       "  </thead>\n",
       "  <tbody>\n",
       "    <tr>\n",
       "      <th>18</th>\n",
       "      <td>2017_30</td>\n",
       "      <td>Global News Podcast</td>\n",
       "      <td>0.541576</td>\n",
       "      <td>03_long</td>\n",
       "      <td>d</td>\n",
       "      <td>news</td>\n",
       "      <td>d</td>\n",
       "    </tr>\n",
       "    <tr>\n",
       "      <th>19</th>\n",
       "      <td>2017_30</td>\n",
       "      <td>Linear Digressions</td>\n",
       "      <td>0.396111</td>\n",
       "      <td>02_medium</td>\n",
       "      <td>w</td>\n",
       "      <td>tech</td>\n",
       "      <td>nd</td>\n",
       "    </tr>\n",
       "    <tr>\n",
       "      <th>20</th>\n",
       "      <td>2017_30</td>\n",
       "      <td>FiveThirtyEight Politics</td>\n",
       "      <td>0.737500</td>\n",
       "      <td>03_long</td>\n",
       "      <td>w</td>\n",
       "      <td>politics</td>\n",
       "      <td>nd</td>\n",
       "    </tr>\n",
       "    <tr>\n",
       "      <th>21</th>\n",
       "      <td>2017_30</td>\n",
       "      <td>RISK!</td>\n",
       "      <td>0.911667</td>\n",
       "      <td>03_long</td>\n",
       "      <td>w</td>\n",
       "      <td>interview</td>\n",
       "      <td>nd</td>\n",
       "    </tr>\n",
       "    <tr>\n",
       "      <th>22</th>\n",
       "      <td>2017_30</td>\n",
       "      <td>Song of the Day</td>\n",
       "      <td>0.074202</td>\n",
       "      <td>01_short</td>\n",
       "      <td>d</td>\n",
       "      <td>music</td>\n",
       "      <td>d</td>\n",
       "    </tr>\n",
       "  </tbody>\n",
       "</table>\n",
       "</div>"
      ],
      "text/plain": [
       "   weekPlayed                     album  duration    dur_bin frequency  \\\n",
       "18    2017_30       Global News Podcast  0.541576    03_long         d   \n",
       "19    2017_30        Linear Digressions  0.396111  02_medium         w   \n",
       "20    2017_30  FiveThirtyEight Politics  0.737500    03_long         w   \n",
       "21    2017_30                     RISK!  0.911667    03_long         w   \n",
       "22    2017_30           Song of the Day  0.074202   01_short         d   \n",
       "\n",
       "     category frequency_grp  \n",
       "18       news             d  \n",
       "19       tech            nd  \n",
       "20   politics            nd  \n",
       "21  interview            nd  \n",
       "22      music             d  "
      ]
     },
     "execution_count": 3,
     "metadata": {},
     "output_type": "execute_result"
    }
   ],
   "source": [
    "filt_data.head()"
   ]
  },
  {
   "cell_type": "code",
   "execution_count": 4,
   "metadata": {},
   "outputs": [],
   "source": [
    "filt_data = filt_data.replace(\"Make Me Smart® with Kai and Molly\",'Make Me Smart with Kai and Molly')\n",
    "filt_data = filt_data.replace(\"Slate's Political Gabfest\",'Political Gabfest')\n",
    "filt_data = filt_data.replace(\"Slate's The Gist\",'The Gist')\n",
    "filt_data = filt_data.replace(\"Marketplace with Kai Ryssdal\",'Marketplace')\n",
    "filt_data = filt_data.replace(\"Wait Wait... Don't Tell Me!\",\"Wait Wait...Don't Tell Me!\")\n"
   ]
  },
  {
   "cell_type": "code",
   "execution_count": 5,
   "metadata": {},
   "outputs": [],
   "source": [
    "podcasts = filt_data['album'].unique()\n",
    "durations = filt_data['dur_bin'].unique()\n",
    "categories = filt_data['category'].unique()"
   ]
  },
  {
   "cell_type": "code",
   "execution_count": 6,
   "metadata": {},
   "outputs": [],
   "source": [
    "data2 =filt_data.pivot_table(index=['album','category'],columns=[\"weekPlayed\"],values=['frequency'],aggfunc=\"count\")\n",
    "stacked_data = data2.stack().reset_index()"
   ]
  },
  {
   "cell_type": "code",
   "execution_count": 7,
   "metadata": {},
   "outputs": [
    {
     "data": {
      "text/plain": [
       "array(['2019_31', '2019_32', '2019_33', '2019_34'], dtype=object)"
      ]
     },
     "execution_count": 7,
     "metadata": {},
     "output_type": "execute_result"
    }
   ],
   "source": [
    "last_weeks = filt_data['weekPlayed'].unique()[-4:]\n",
    "last_weeks"
   ]
  },
  {
   "cell_type": "code",
   "execution_count": 8,
   "metadata": {},
   "outputs": [
    {
     "data": {
      "text/plain": [
       "['2017_01', '2017_02', '2017_03', '2017_04', '2017_05']"
      ]
     },
     "execution_count": 8,
     "metadata": {},
     "output_type": "execute_result"
    }
   ],
   "source": [
    "weeks = []\n",
    "for y in [2017,2018,2019]:\n",
    "    for w in range(1,53):\n",
    "        weeks.append(\"{}_{:02d}\".format(y,w))\n",
    "weeks[:5]"
   ]
  },
  {
   "cell_type": "code",
   "execution_count": null,
   "metadata": {},
   "outputs": [],
   "source": []
  },
  {
   "cell_type": "code",
   "execution_count": 9,
   "metadata": {},
   "outputs": [
    {
     "name": "stdout",
     "output_type": "stream",
     "text": [
      "2017_30\n",
      "2017_31\n",
      "False\n",
      "====\n",
      "2017_31\n",
      "2017_32\n",
      "False\n",
      "====\n",
      "2017_32\n",
      "2017_33\n",
      "False\n",
      "====\n",
      "2017_33\n",
      "2017_34\n",
      "False\n",
      "====\n",
      "2017_34\n",
      "2017_35\n",
      "True\n",
      "====\n",
      "2017_51\n",
      "2017_52\n",
      "True\n",
      "====\n"
     ]
    }
   ],
   "source": [
    "catg_data = {\n",
    "#     'category':[],\n",
    "    'podcast':[],\n",
    "    'week':[],\n",
    "    'cont_code':[],\n",
    "    'instance':[],\n",
    "    'drop_off':[],\n",
    "    'played_in_last_weeks':[]\n",
    "}\n",
    "\n",
    "for p in podcasts:\n",
    "    cont_len = 1\n",
    "    p_cast_data = stacked_data[stacked_data['album']==p]\n",
    "    if len(p_cast_data) == 1:\n",
    "#         catg_data['category'].append(c)\n",
    "        dropoff_ind = (not(NextWeekList_Played_for_pcast in p_cast_data['weekPlayed'].unique())) or \\\n",
    "                (not(CurrWeekPlayed_for_pcast in last_weeks))\n",
    "        catg_data['podcast'].append(p)\n",
    "        catg_data['week'].append(p_cast_data.iloc[0]['weekPlayed'])\n",
    "        catg_data['cont_code'].append(\"podcast_{}_{:03d}\".format(p,cont_len))\n",
    "        catg_data['instance'].append(\"{:03d}\".format(cont_len))\n",
    "        catg_data['drop_off'].append(1 if not(p_cast_data.iloc[0]['weekPlayed'] in last_weeks) else 0)\n",
    "        catg_data['played_in_last_weeks'].append(1 if p_cast_data.iloc[0]['weekPlayed'] in last_weeks else 0)\n",
    "    else:\n",
    "        for i in range(len(p_cast_data)):\n",
    "            # get current \n",
    "            CurrWeekPlayed_for_pcast = p_cast_data.iloc[i]['weekPlayed']\n",
    "            NextWeekList_Played_for_pcast = weeks[weeks.index(p_cast_data.iloc[i]['weekPlayed'])+1]\n",
    "            \n",
    "            # flags\n",
    "            next_calcd_week_in_datelist = NextWeekList_Played_for_pcast in p_cast_data['weekPlayed'].unique()\n",
    "            played_recently = CurrWeekPlayed_for_pcast in last_weeks\n",
    "            dropoff_ind = (not(next_calcd_week_in_datelist)) and (not(played_recently))\n",
    "            \n",
    "            if p ==\"Global News Podcast\":\n",
    "                print(CurrWeekPlayed_for_pcast)\n",
    "                print(NextWeekList_Played_for_pcast)\n",
    "                print(dropoff_ind)\n",
    "                print('====')\n",
    "            if i == 0:\n",
    "                catg_data['podcast'].append(p)\n",
    "                catg_data['week'].append(CurrWeekPlayed_for_pcast)\n",
    "                catg_data['cont_code'].append(\"podcast_{}_{:03d}\".format(p,cont_len))\n",
    "                catg_data['instance'].append(\"{:03d}\".format(cont_len))\n",
    "                catg_data['drop_off'].append(1 if dropoff_ind else 0)\n",
    "                catg_data['played_in_last_weeks'].append(1 if played_recently else 0)\n",
    "                continue\n",
    "\n",
    "            if next_calcd_week_in_datelist and not(played_recently):\n",
    "                catg_data['podcast'].append(p)\n",
    "                catg_data['week'].append(CurrWeekPlayed_for_pcast)\n",
    "                catg_data['cont_code'].append(\"podcast_{}_{:03d}\".format(p,cont_len))\n",
    "                catg_data['instance'].append(\"{:03d}\".format(cont_len))\n",
    "                catg_data['drop_off'].append(0)\n",
    "                catg_data['played_in_last_weeks'].append(0)\n",
    "                continue\n",
    "                \n",
    "            elif not(next_calcd_week_in_datelist) and (played_recently):\n",
    "                catg_data['podcast'].append(p)\n",
    "                catg_data['week'].append(CurrWeekPlayed_for_pcast)\n",
    "                catg_data['cont_code'].append(\"podcast_{}_{:03d}\".format(p,cont_len))\n",
    "                catg_data['instance'].append(\"{:03d}\".format(cont_len))\n",
    "                catg_data['drop_off'].append(1)\n",
    "                catg_data['played_in_last_weeks'].append(1)\n",
    "                cont_len+=1\n",
    "                continue\n",
    "            elif not(next_calcd_week_in_datelist) and not(played_recently):\n",
    "                catg_data['podcast'].append(p)\n",
    "                catg_data['week'].append(CurrWeekPlayed_for_pcast)\n",
    "                catg_data['cont_code'].append(\"podcast_{}_{:03d}\".format(p,cont_len))\n",
    "                catg_data['instance'].append(\"{:03d}\".format(cont_len))\n",
    "                catg_data['drop_off'].append(1) \n",
    "                catg_data['played_in_last_weeks'].append(0)\n",
    "                cont_len+=1\n",
    "            else:\n",
    "                catg_data['podcast'].append(p)\n",
    "                catg_data['week'].append(CurrWeekPlayed_for_pcast)\n",
    "                catg_data['cont_code'].append(\"podcast_{}_{:03d}\".format(p,cont_len))\n",
    "                catg_data['instance'].append(\"{:03d}\".format(cont_len))\n",
    "                catg_data['drop_off'].append(0)\n",
    "                catg_data['played_in_last_weeks'].append(1)\n",
    "catg_data = pd.DataFrame(catg_data)"
   ]
  },
  {
   "cell_type": "code",
   "execution_count": 10,
   "metadata": {},
   "outputs": [
    {
     "data": {
      "text/html": [
       "<div>\n",
       "<style scoped>\n",
       "    .dataframe tbody tr th:only-of-type {\n",
       "        vertical-align: middle;\n",
       "    }\n",
       "\n",
       "    .dataframe tbody tr th {\n",
       "        vertical-align: top;\n",
       "    }\n",
       "\n",
       "    .dataframe thead th {\n",
       "        text-align: right;\n",
       "    }\n",
       "</style>\n",
       "<table border=\"1\" class=\"dataframe\">\n",
       "  <thead>\n",
       "    <tr style=\"text-align: right;\">\n",
       "      <th></th>\n",
       "      <th>cont_code</th>\n",
       "      <th>drop_off</th>\n",
       "      <th>instance</th>\n",
       "      <th>played_in_last_weeks</th>\n",
       "      <th>podcast</th>\n",
       "      <th>week</th>\n",
       "    </tr>\n",
       "  </thead>\n",
       "  <tbody>\n",
       "    <tr>\n",
       "      <th>0</th>\n",
       "      <td>podcast_Global News Podcast_001</td>\n",
       "      <td>0</td>\n",
       "      <td>001</td>\n",
       "      <td>0</td>\n",
       "      <td>Global News Podcast</td>\n",
       "      <td>2017_30</td>\n",
       "    </tr>\n",
       "    <tr>\n",
       "      <th>1</th>\n",
       "      <td>podcast_Global News Podcast_001</td>\n",
       "      <td>0</td>\n",
       "      <td>001</td>\n",
       "      <td>0</td>\n",
       "      <td>Global News Podcast</td>\n",
       "      <td>2017_31</td>\n",
       "    </tr>\n",
       "    <tr>\n",
       "      <th>2</th>\n",
       "      <td>podcast_Global News Podcast_001</td>\n",
       "      <td>0</td>\n",
       "      <td>001</td>\n",
       "      <td>0</td>\n",
       "      <td>Global News Podcast</td>\n",
       "      <td>2017_32</td>\n",
       "    </tr>\n",
       "    <tr>\n",
       "      <th>3</th>\n",
       "      <td>podcast_Global News Podcast_001</td>\n",
       "      <td>0</td>\n",
       "      <td>001</td>\n",
       "      <td>0</td>\n",
       "      <td>Global News Podcast</td>\n",
       "      <td>2017_33</td>\n",
       "    </tr>\n",
       "    <tr>\n",
       "      <th>4</th>\n",
       "      <td>podcast_Global News Podcast_001</td>\n",
       "      <td>1</td>\n",
       "      <td>001</td>\n",
       "      <td>0</td>\n",
       "      <td>Global News Podcast</td>\n",
       "      <td>2017_34</td>\n",
       "    </tr>\n",
       "    <tr>\n",
       "      <th>5</th>\n",
       "      <td>podcast_Global News Podcast_002</td>\n",
       "      <td>1</td>\n",
       "      <td>002</td>\n",
       "      <td>0</td>\n",
       "      <td>Global News Podcast</td>\n",
       "      <td>2017_51</td>\n",
       "    </tr>\n",
       "    <tr>\n",
       "      <th>6</th>\n",
       "      <td>podcast_Linear Digressions_001</td>\n",
       "      <td>0</td>\n",
       "      <td>001</td>\n",
       "      <td>0</td>\n",
       "      <td>Linear Digressions</td>\n",
       "      <td>2017_30</td>\n",
       "    </tr>\n",
       "    <tr>\n",
       "      <th>7</th>\n",
       "      <td>podcast_Linear Digressions_001</td>\n",
       "      <td>0</td>\n",
       "      <td>001</td>\n",
       "      <td>0</td>\n",
       "      <td>Linear Digressions</td>\n",
       "      <td>2017_31</td>\n",
       "    </tr>\n",
       "    <tr>\n",
       "      <th>8</th>\n",
       "      <td>podcast_Linear Digressions_001</td>\n",
       "      <td>0</td>\n",
       "      <td>001</td>\n",
       "      <td>0</td>\n",
       "      <td>Linear Digressions</td>\n",
       "      <td>2017_32</td>\n",
       "    </tr>\n",
       "    <tr>\n",
       "      <th>9</th>\n",
       "      <td>podcast_Linear Digressions_001</td>\n",
       "      <td>0</td>\n",
       "      <td>001</td>\n",
       "      <td>0</td>\n",
       "      <td>Linear Digressions</td>\n",
       "      <td>2017_33</td>\n",
       "    </tr>\n",
       "  </tbody>\n",
       "</table>\n",
       "</div>"
      ],
      "text/plain": [
       "                         cont_code  drop_off instance  played_in_last_weeks  \\\n",
       "0  podcast_Global News Podcast_001         0      001                     0   \n",
       "1  podcast_Global News Podcast_001         0      001                     0   \n",
       "2  podcast_Global News Podcast_001         0      001                     0   \n",
       "3  podcast_Global News Podcast_001         0      001                     0   \n",
       "4  podcast_Global News Podcast_001         1      001                     0   \n",
       "5  podcast_Global News Podcast_002         1      002                     0   \n",
       "6   podcast_Linear Digressions_001         0      001                     0   \n",
       "7   podcast_Linear Digressions_001         0      001                     0   \n",
       "8   podcast_Linear Digressions_001         0      001                     0   \n",
       "9   podcast_Linear Digressions_001         0      001                     0   \n",
       "\n",
       "               podcast     week  \n",
       "0  Global News Podcast  2017_30  \n",
       "1  Global News Podcast  2017_31  \n",
       "2  Global News Podcast  2017_32  \n",
       "3  Global News Podcast  2017_33  \n",
       "4  Global News Podcast  2017_34  \n",
       "5  Global News Podcast  2017_51  \n",
       "6   Linear Digressions  2017_30  \n",
       "7   Linear Digressions  2017_31  \n",
       "8   Linear Digressions  2017_32  \n",
       "9   Linear Digressions  2017_33  "
      ]
     },
     "execution_count": 10,
     "metadata": {},
     "output_type": "execute_result"
    }
   ],
   "source": [
    "# catg_data.to_clipboard(index=False)\n",
    "catg_data.head(10)"
   ]
  },
  {
   "cell_type": "code",
   "execution_count": null,
   "metadata": {},
   "outputs": [],
   "source": []
  },
  {
   "cell_type": "code",
   "execution_count": 11,
   "metadata": {},
   "outputs": [
    {
     "ename": "NameError",
     "evalue": "name 'catg_data2_agers' is not defined",
     "output_type": "error",
     "traceback": [
      "\u001b[0;31m---------------------------------------------------------------------------\u001b[0m",
      "\u001b[0;31mNameError\u001b[0m                                 Traceback (most recent call last)",
      "\u001b[0;32m<ipython-input-11-adebccd9809b>\u001b[0m in \u001b[0;36m<module>\u001b[0;34m()\u001b[0m\n\u001b[1;32m      3\u001b[0m \u001b[0mcatg_data2_ages\u001b[0m \u001b[0;34m=\u001b[0m \u001b[0mcatg_data2_ages\u001b[0m\u001b[0;34m.\u001b[0m\u001b[0mgroupby\u001b[0m\u001b[0;34m(\u001b[0m\u001b[0mby\u001b[0m\u001b[0;34m=\u001b[0m\u001b[0;34m[\u001b[0m\u001b[0;34m'podcast'\u001b[0m\u001b[0;34m]\u001b[0m\u001b[0;34m)\u001b[0m\u001b[0;34m.\u001b[0m\u001b[0magg\u001b[0m\u001b[0;34m(\u001b[0m\u001b[0;34m{\u001b[0m\u001b[0;34m'cont_codecount'\u001b[0m\u001b[0;34m:\u001b[0m\u001b[0;34m[\u001b[0m\u001b[0;34m'mean'\u001b[0m\u001b[0;34m,\u001b[0m\u001b[0;34m'count'\u001b[0m\u001b[0;34m,\u001b[0m\u001b[0;34m'nunique'\u001b[0m\u001b[0;34m,\u001b[0m\u001b[0;34m'min'\u001b[0m\u001b[0;34m,\u001b[0m\u001b[0;34m'max'\u001b[0m\u001b[0;34m]\u001b[0m\u001b[0;34m,\u001b[0m\u001b[0;34m'played_in_last_weekssum'\u001b[0m\u001b[0;34m:\u001b[0m\u001b[0;34m'sum'\u001b[0m\u001b[0;34m,\u001b[0m\u001b[0;34m'weekmax'\u001b[0m\u001b[0;34m:\u001b[0m\u001b[0;34m'max'\u001b[0m\u001b[0;34m}\u001b[0m\u001b[0;34m)\u001b[0m\u001b[0;34m.\u001b[0m\u001b[0mreset_index\u001b[0m\u001b[0;34m(\u001b[0m\u001b[0;34m)\u001b[0m\u001b[0;34m\u001b[0m\u001b[0m\n\u001b[1;32m      4\u001b[0m \u001b[0mcatg_data2_ages\u001b[0m\u001b[0;34m.\u001b[0m\u001b[0mcolumns\u001b[0m \u001b[0;34m=\u001b[0m \u001b[0;34m[\u001b[0m\u001b[0;34m\"\"\u001b[0m\u001b[0;34m.\u001b[0m\u001b[0mjoin\u001b[0m\u001b[0;34m(\u001b[0m\u001b[0mx\u001b[0m\u001b[0;34m)\u001b[0m \u001b[0;32mfor\u001b[0m \u001b[0mx\u001b[0m \u001b[0;32min\u001b[0m \u001b[0mcatg_data2_ages\u001b[0m\u001b[0;34m.\u001b[0m\u001b[0mcolumns\u001b[0m\u001b[0;34m]\u001b[0m\u001b[0;34m\u001b[0m\u001b[0m\n\u001b[0;32m----> 5\u001b[0;31m \u001b[0mcatg_data2_agers\u001b[0m\u001b[0;34m.\u001b[0m\u001b[0mhead\u001b[0m\u001b[0;34m(\u001b[0m\u001b[0;34m)\u001b[0m\u001b[0;34m\u001b[0m\u001b[0m\n\u001b[0m",
      "\u001b[0;31mNameError\u001b[0m: name 'catg_data2_agers' is not defined"
     ]
    }
   ],
   "source": [
    "catg_data2_ages = catg_data.groupby(by=['podcast','cont_code'],).agg({'cont_code':'count','week':['min','max'],'drop_off':'sum','played_in_last_weeks':'sum'}).reset_index()\n",
    "catg_data2_ages.columns = [\"\".join(x) for x in catg_data2_ages.columns]\n",
    "catg_data2_ages = catg_data2_ages.groupby(by=['podcast']).agg({'cont_codecount':['mean','count','nunique','min','max'],'played_in_last_weekssum':'sum','weekmax':'max'}).reset_index()\n",
    "catg_data2_ages.columns = [\"\".join(x) for x in catg_data2_ages.columns]\n",
    "catg_data2_agers.head()"
   ]
  },
  {
   "cell_type": "code",
   "execution_count": null,
   "metadata": {},
   "outputs": [],
   "source": []
  },
  {
   "cell_type": "code",
   "execution_count": null,
   "metadata": {},
   "outputs": [],
   "source": []
  }
 ],
 "metadata": {
  "kernelspec": {
   "display_name": "Python [conda env:anaconda3]",
   "language": "python",
   "name": "conda-env-anaconda3-py"
  },
  "language_info": {
   "codemirror_mode": {
    "name": "ipython",
    "version": 3
   },
   "file_extension": ".py",
   "mimetype": "text/x-python",
   "name": "python",
   "nbconvert_exporter": "python",
   "pygments_lexer": "ipython3",
   "version": "3.5.6"
  }
 },
 "nbformat": 4,
 "nbformat_minor": 2
}
